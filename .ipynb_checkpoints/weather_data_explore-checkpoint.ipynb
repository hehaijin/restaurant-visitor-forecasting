{
 "cells": [
  {
   "cell_type": "code",
   "execution_count": 1,
   "metadata": {
    "collapsed": true
   },
   "outputs": [],
   "source": [
    "import pandas as pd"
   ]
  },
  {
   "cell_type": "code",
   "execution_count": 3,
   "metadata": {},
   "outputs": [],
   "source": [
    "weather=pd.read_csv(\"data/weather.csv\")"
   ]
  },
  {
   "cell_type": "code",
   "execution_count": 15,
   "metadata": {},
   "outputs": [
    {
     "data": {
      "text/html": [
       "<div>\n",
       "<style>\n",
       "    .dataframe thead tr:only-child th {\n",
       "        text-align: right;\n",
       "    }\n",
       "\n",
       "    .dataframe thead th {\n",
       "        text-align: left;\n",
       "    }\n",
       "\n",
       "    .dataframe tbody tr th {\n",
       "        vertical-align: top;\n",
       "    }\n",
       "</style>\n",
       "<table border=\"1\" class=\"dataframe\">\n",
       "  <thead>\n",
       "    <tr style=\"text-align: right;\">\n",
       "      <th></th>\n",
       "      <th>STATION</th>\n",
       "      <th>NAME</th>\n",
       "      <th>LATITUDE</th>\n",
       "      <th>LONGITUDE</th>\n",
       "      <th>ELEVATION</th>\n",
       "      <th>DATE</th>\n",
       "      <th>PRCP</th>\n",
       "      <th>PRCP_ATTRIBUTES</th>\n",
       "      <th>SNWD</th>\n",
       "      <th>SNWD_ATTRIBUTES</th>\n",
       "      <th>TAVG</th>\n",
       "      <th>TAVG_ATTRIBUTES</th>\n",
       "      <th>TMAX</th>\n",
       "      <th>TMAX_ATTRIBUTES</th>\n",
       "      <th>TMIN</th>\n",
       "      <th>TMIN_ATTRIBUTES</th>\n",
       "    </tr>\n",
       "  </thead>\n",
       "  <tbody>\n",
       "    <tr>\n",
       "      <th>0</th>\n",
       "      <td>JAM00047918</td>\n",
       "      <td>ISHIGAKI, JA</td>\n",
       "      <td>24.345</td>\n",
       "      <td>124.187</td>\n",
       "      <td>28.3</td>\n",
       "      <td>2016-01-01</td>\n",
       "      <td>0.5</td>\n",
       "      <td>,,S</td>\n",
       "      <td>NaN</td>\n",
       "      <td>NaN</td>\n",
       "      <td>22.4</td>\n",
       "      <td>H,,S</td>\n",
       "      <td>NaN</td>\n",
       "      <td>NaN</td>\n",
       "      <td>17.7</td>\n",
       "      <td>,,S</td>\n",
       "    </tr>\n",
       "    <tr>\n",
       "      <th>1</th>\n",
       "      <td>JAM00047918</td>\n",
       "      <td>ISHIGAKI, JA</td>\n",
       "      <td>24.345</td>\n",
       "      <td>124.187</td>\n",
       "      <td>28.3</td>\n",
       "      <td>2016-01-02</td>\n",
       "      <td>0.0</td>\n",
       "      <td>,,S</td>\n",
       "      <td>NaN</td>\n",
       "      <td>NaN</td>\n",
       "      <td>24.2</td>\n",
       "      <td>H,,S</td>\n",
       "      <td>26.5</td>\n",
       "      <td>,,S</td>\n",
       "      <td>NaN</td>\n",
       "      <td>NaN</td>\n",
       "    </tr>\n",
       "    <tr>\n",
       "      <th>2</th>\n",
       "      <td>JAM00047918</td>\n",
       "      <td>ISHIGAKI, JA</td>\n",
       "      <td>24.345</td>\n",
       "      <td>124.187</td>\n",
       "      <td>28.3</td>\n",
       "      <td>2016-01-03</td>\n",
       "      <td>4.1</td>\n",
       "      <td>,,S</td>\n",
       "      <td>NaN</td>\n",
       "      <td>NaN</td>\n",
       "      <td>21.7</td>\n",
       "      <td>H,,S</td>\n",
       "      <td>23.6</td>\n",
       "      <td>,,S</td>\n",
       "      <td>NaN</td>\n",
       "      <td>NaN</td>\n",
       "    </tr>\n",
       "    <tr>\n",
       "      <th>3</th>\n",
       "      <td>JAM00047918</td>\n",
       "      <td>ISHIGAKI, JA</td>\n",
       "      <td>24.345</td>\n",
       "      <td>124.187</td>\n",
       "      <td>28.3</td>\n",
       "      <td>2016-01-04</td>\n",
       "      <td>9.9</td>\n",
       "      <td>,,S</td>\n",
       "      <td>NaN</td>\n",
       "      <td>NaN</td>\n",
       "      <td>22.6</td>\n",
       "      <td>H,,S</td>\n",
       "      <td>NaN</td>\n",
       "      <td>NaN</td>\n",
       "      <td>20.6</td>\n",
       "      <td>,,S</td>\n",
       "    </tr>\n",
       "    <tr>\n",
       "      <th>4</th>\n",
       "      <td>JAM00047918</td>\n",
       "      <td>ISHIGAKI, JA</td>\n",
       "      <td>24.345</td>\n",
       "      <td>124.187</td>\n",
       "      <td>28.3</td>\n",
       "      <td>2016-01-05</td>\n",
       "      <td>36.1</td>\n",
       "      <td>,,S</td>\n",
       "      <td>NaN</td>\n",
       "      <td>NaN</td>\n",
       "      <td>22.1</td>\n",
       "      <td>H,,S</td>\n",
       "      <td>25.2</td>\n",
       "      <td>,,S</td>\n",
       "      <td>NaN</td>\n",
       "      <td>NaN</td>\n",
       "    </tr>\n",
       "  </tbody>\n",
       "</table>\n",
       "</div>"
      ],
      "text/plain": [
       "       STATION          NAME  LATITUDE  LONGITUDE  ELEVATION        DATE  \\\n",
       "0  JAM00047918  ISHIGAKI, JA    24.345    124.187       28.3  2016-01-01   \n",
       "1  JAM00047918  ISHIGAKI, JA    24.345    124.187       28.3  2016-01-02   \n",
       "2  JAM00047918  ISHIGAKI, JA    24.345    124.187       28.3  2016-01-03   \n",
       "3  JAM00047918  ISHIGAKI, JA    24.345    124.187       28.3  2016-01-04   \n",
       "4  JAM00047918  ISHIGAKI, JA    24.345    124.187       28.3  2016-01-05   \n",
       "\n",
       "   PRCP PRCP_ATTRIBUTES  SNWD SNWD_ATTRIBUTES  TAVG TAVG_ATTRIBUTES  TMAX  \\\n",
       "0   0.5             ,,S   NaN             NaN  22.4            H,,S   NaN   \n",
       "1   0.0             ,,S   NaN             NaN  24.2            H,,S  26.5   \n",
       "2   4.1             ,,S   NaN             NaN  21.7            H,,S  23.6   \n",
       "3   9.9             ,,S   NaN             NaN  22.6            H,,S   NaN   \n",
       "4  36.1             ,,S   NaN             NaN  22.1            H,,S  25.2   \n",
       "\n",
       "  TMAX_ATTRIBUTES  TMIN TMIN_ATTRIBUTES  \n",
       "0             NaN  17.7             ,,S  \n",
       "1             ,,S   NaN             NaN  \n",
       "2             ,,S   NaN             NaN  \n",
       "3             NaN  20.6             ,,S  \n",
       "4             ,,S   NaN             NaN  "
      ]
     },
     "execution_count": 15,
     "metadata": {},
     "output_type": "execute_result"
    }
   ],
   "source": [
    "weather.head()"
   ]
  },
  {
   "cell_type": "code",
   "execution_count": 6,
   "metadata": {},
   "outputs": [],
   "source": [
    "weather2=weather[[\"STATION\",\"PRCP\",\"SNWD\",\"TAVG\",\"TMAX\",\"TMIN\"]]"
   ]
  },
  {
   "cell_type": "code",
   "execution_count": 7,
   "metadata": {},
   "outputs": [
    {
     "data": {
      "text/html": [
       "<div>\n",
       "<style>\n",
       "    .dataframe thead tr:only-child th {\n",
       "        text-align: right;\n",
       "    }\n",
       "\n",
       "    .dataframe thead th {\n",
       "        text-align: left;\n",
       "    }\n",
       "\n",
       "    .dataframe tbody tr th {\n",
       "        vertical-align: top;\n",
       "    }\n",
       "</style>\n",
       "<table border=\"1\" class=\"dataframe\">\n",
       "  <thead>\n",
       "    <tr style=\"text-align: right;\">\n",
       "      <th></th>\n",
       "      <th>STATION</th>\n",
       "      <th>PRCP</th>\n",
       "      <th>SNWD</th>\n",
       "      <th>TAVG</th>\n",
       "      <th>TMAX</th>\n",
       "      <th>TMIN</th>\n",
       "    </tr>\n",
       "  </thead>\n",
       "  <tbody>\n",
       "    <tr>\n",
       "      <th>0</th>\n",
       "      <td>JAM00047918</td>\n",
       "      <td>0.5</td>\n",
       "      <td>NaN</td>\n",
       "      <td>22.4</td>\n",
       "      <td>NaN</td>\n",
       "      <td>17.7</td>\n",
       "    </tr>\n",
       "    <tr>\n",
       "      <th>1</th>\n",
       "      <td>JAM00047918</td>\n",
       "      <td>0.0</td>\n",
       "      <td>NaN</td>\n",
       "      <td>24.2</td>\n",
       "      <td>26.5</td>\n",
       "      <td>NaN</td>\n",
       "    </tr>\n",
       "    <tr>\n",
       "      <th>2</th>\n",
       "      <td>JAM00047918</td>\n",
       "      <td>4.1</td>\n",
       "      <td>NaN</td>\n",
       "      <td>21.7</td>\n",
       "      <td>23.6</td>\n",
       "      <td>NaN</td>\n",
       "    </tr>\n",
       "    <tr>\n",
       "      <th>3</th>\n",
       "      <td>JAM00047918</td>\n",
       "      <td>9.9</td>\n",
       "      <td>NaN</td>\n",
       "      <td>22.6</td>\n",
       "      <td>NaN</td>\n",
       "      <td>20.6</td>\n",
       "    </tr>\n",
       "    <tr>\n",
       "      <th>4</th>\n",
       "      <td>JAM00047918</td>\n",
       "      <td>36.1</td>\n",
       "      <td>NaN</td>\n",
       "      <td>22.1</td>\n",
       "      <td>25.2</td>\n",
       "      <td>NaN</td>\n",
       "    </tr>\n",
       "  </tbody>\n",
       "</table>\n",
       "</div>"
      ],
      "text/plain": [
       "       STATION  PRCP  SNWD  TAVG  TMAX  TMIN\n",
       "0  JAM00047918   0.5   NaN  22.4   NaN  17.7\n",
       "1  JAM00047918   0.0   NaN  24.2  26.5   NaN\n",
       "2  JAM00047918   4.1   NaN  21.7  23.6   NaN\n",
       "3  JAM00047918   9.9   NaN  22.6   NaN  20.6\n",
       "4  JAM00047918  36.1   NaN  22.1  25.2   NaN"
      ]
     },
     "execution_count": 7,
     "metadata": {},
     "output_type": "execute_result"
    }
   ],
   "source": [
    "weather2.head()"
   ]
  },
  {
   "cell_type": "code",
   "execution_count": 8,
   "metadata": {
    "collapsed": true
   },
   "outputs": [],
   "source": [
    "#return a formatted percentage from a fraction\n",
    "def percentage(numerator, denomenator):\n",
    "    \n",
    "    if type(numerator) == pd.core.series.Series:\n",
    "        return (numerator/denomenator*100).map('{:.1f}%'.format)\n",
    "    \n",
    "    elif type(numerator) == int or type(numerator) == float:\n",
    "        return '{:.1f}%'.format(float(numerator)/float(denomenator)*100) \n",
    "    \n",
    "    else:\n",
    "        print(\"check type\")"
   ]
  },
  {
   "cell_type": "code",
   "execution_count": 13,
   "metadata": {},
   "outputs": [
    {
     "data": {
      "text/plain": [
       "STATION    100.0%\n",
       "PRCP        94.4%\n",
       "SNWD         3.0%\n",
       "TAVG       100.0%\n",
       "TMAX        89.0%\n",
       "TMIN        53.4%\n",
       "dtype: object"
      ]
     },
     "execution_count": 13,
     "metadata": {},
     "output_type": "execute_result"
    }
   ],
   "source": [
    "#snow data is rare, which is reasonable.\n",
    "#temp average data is good,might be useful.\n",
    "percentage(weather2.count()-1, weather2.shape[0]-1)"
   ]
  },
  {
   "cell_type": "code",
   "execution_count": 12,
   "metadata": {},
   "outputs": [
    {
     "data": {
      "text/plain": [
       "STATION    110030\n",
       "PRCP       103834\n",
       "SNWD         3297\n",
       "TAVG       110030\n",
       "TMAX        97978\n",
       "TMIN        58787\n",
       "dtype: int64"
      ]
     },
     "execution_count": 12,
     "metadata": {},
     "output_type": "execute_result"
    }
   ],
   "source": [
    "weather2.count()"
   ]
  },
  {
   "cell_type": "code",
   "execution_count": 14,
   "metadata": {
    "collapsed": true
   },
   "outputs": [],
   "source": [
    "weather2.to_csv(\"data/weather2.csv\")"
   ]
  },
  {
   "cell_type": "code",
   "execution_count": null,
   "metadata": {
    "collapsed": true
   },
   "outputs": [],
   "source": []
  }
 ],
 "metadata": {
  "kernelspec": {
   "display_name": "Python 3",
   "language": "python",
   "name": "python3"
  }
 },
 "nbformat": 4,
 "nbformat_minor": 2
}
